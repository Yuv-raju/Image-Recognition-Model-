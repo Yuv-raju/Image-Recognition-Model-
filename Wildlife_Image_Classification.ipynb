{
 "cells": [
  {
   "cell_type": "code",
   "execution_count": 2,
   "id": "9db91988",
   "metadata": {},
   "outputs": [],
   "source": [
    "import zipfile \n",
    "import os\n",
    "\n",
    "extract_file = 'Wildlife_images'"
   ]
  },
  {
   "cell_type": "code",
   "execution_count": 3,
   "id": "3e610097",
   "metadata": {},
   "outputs": [],
   "source": [
    "import shutil \n",
    "import pandas as pd \n",
    "\n",
    "if not os.path.exists('Wildlife_images\\\\data_animals'):\n",
    "    os.mkdir('Wildlife_images/data_animals')\n",
    "\n",
    "image_data = pd.read_csv(os.path.join(extract_file, 'train_labels.csv'))\n",
    "columns = image_data.columns[1:]\n",
    "\n",
    "for column in columns:\n",
    "    cross = os.path.join(extract_file, 'data_animals', column)\n",
    "    if not os.path.exists(cross):\n",
    "        os.mkdir(f'Wildlife_images/data_animals/{column}')\n",
    "        \n",
    "for index in image_data.index:\n",
    "    series = image_data.loc[index, [column for column in image_data.columns[1:] if image_data.loc[index, column] == 1]]\n",
    "    image_in_jpg = image_data.loc[index, 'id'] + '.jpg'\n",
    "    train_path = os.path.join(extract_file, 'train_features')\n",
    "    image_path = os.path.join(train_path, image_in_jpg)\n",
    "    \n",
    "    if not os.path.exists(f'Wildlife_images/data_animals/{list(series.index)[0]}/{image_in_jpg}'):\n",
    "        shutil.copy(image_path, f'Wildlife_images/data_animals/{list(series.index)[0]}')"
   ]
  },
  {
   "cell_type": "code",
   "execution_count": 4,
   "id": "ef257ef2",
   "metadata": {},
   "outputs": [],
   "source": [
    "import torch \n",
    "import torchvision\n",
    "from torchvision import transforms, datasets\n",
    "from torch.utils.data import DataLoader\n",
    "\n",
    "class ConvertToRGB():\n",
    "    def __call__(self, img):\n",
    "        if img.mode != 'RGB':\n",
    "            img = img.convert(\"RGB\")\n",
    "        return img\n",
    "\n",
    "root = os.path.join(extract_file, 'data_animals')\n",
    "transform = transforms.Compose([\n",
    "    ConvertToRGB(),\n",
    "    transforms.Resize((224,224)),\n",
    "    transforms.ToTensor(),\n",
    "])"
   ]
  },
  {
   "cell_type": "code",
   "execution_count": 5,
   "id": "a634ea7d",
   "metadata": {},
   "outputs": [
    {
     "data": {
      "text/plain": [
       "(16488, 3)"
      ]
     },
     "execution_count": 5,
     "metadata": {},
     "output_type": "execute_result"
    }
   ],
   "source": [
    "path = 'Wildlife_images/train_features.csv'\n",
    "data = pd.read_csv(path)\n",
    "data.shape"
   ]
  },
  {
   "cell_type": "code",
   "execution_count": 6,
   "id": "5f9b237e",
   "metadata": {},
   "outputs": [
    {
     "name": "stdout",
     "output_type": "stream",
     "text": [
      "Using device: cuda\n",
      "Classes:\n",
      "['antelope_duiker', 'bird', 'blank', 'civet_genet', 'hog', 'leopard', 'monkey_prosimian', 'rodent']\n",
      "That's 8 classes\n",
      "\n",
      "Tensor shape for one image:\n",
      "torch.Size([3, 224, 224])\n"
     ]
    }
   ],
   "source": [
    "device = torch.device('cuda' if torch.cuda.is_available() else 'cpu')\n",
    "print(\"Using device:\", device)\n",
    "\n",
    "dataset = datasets.ImageFolder(root=root, transform=transform)\n",
    "print(\"Classes:\")\n",
    "print(dataset.classes)\n",
    "print(f\"That's {len(dataset.classes)} classes\")\n",
    "print()\n",
    "print(\"Tensor shape for one image:\")\n",
    "print(dataset[0][0].shape)"
   ]
  },
  {
   "cell_type": "code",
   "execution_count": 7,
   "id": "817bb755",
   "metadata": {},
   "outputs": [
    {
     "name": "stdout",
     "output_type": "stream",
     "text": [
      "Shape of one batch: torch.Size([32, 3, 224, 224])\n",
      "Shape of labels: torch.Size([32])\n"
     ]
    }
   ],
   "source": [
    "batch_size = 32\n",
    "dataset_loader = DataLoader(dataset, batch_size=batch_size)\n",
    "\n",
    "first_batch = next(iter(dataset_loader))\n",
    "\n",
    "print(f\"Shape of one batch: {first_batch[0].shape}\")\n",
    "print(f\"Shape of labels: {first_batch[1].shape}\")"
   ]
  },
  {
   "cell_type": "code",
   "execution_count": 8,
   "id": "f44e00aa",
   "metadata": {},
   "outputs": [],
   "source": [
    "import tqdm \n",
    "from tqdm import tqdm\n",
    "def get_mean_std(loader):\n",
    "\n",
    "    channels_sum, channels_squared_sum, num_batches = 0, 0, 0\n",
    "    for data, _ in tqdm(loader, desc=\"Computing mean and std\", leave=False, colour='blue'):\n",
    "        data = data.to(device)\n",
    "        channels_sum += torch.mean(data, dim=[0, 2, 3])\n",
    "        channels_squared_sum += torch.mean(data**2, dim=[0, 2, 3])\n",
    "        num_batches += 1\n",
    "    mean = channels_sum / num_batches\n",
    "    std = (channels_squared_sum / num_batches - mean**2) ** 0.5\n",
    "\n",
    "    return mean, std"
   ]
  },
  {
   "cell_type": "code",
   "execution_count": 9,
   "id": "f1657f30",
   "metadata": {},
   "outputs": [
    {
     "name": "stderr",
     "output_type": "stream",
     "text": [
      "                                                                         2.73it/s]\r"
     ]
    },
    {
     "name": "stdout",
     "output_type": "stream",
     "text": [
      "Mean: tensor([0.4788, 0.4925, 0.4833], device='cuda:0')\n",
      "Standard deviation: tensor([0.2541, 0.2470, 0.2501], device='cuda:0')\n"
     ]
    }
   ],
   "source": [
    "mean, std = get_mean_std(dataset_loader)\n",
    "\n",
    "print(f\"Mean: {mean}\")\n",
    "print(f\"Standard deviation: {std}\")"
   ]
  },
  {
   "cell_type": "code",
   "execution_count": 10,
   "id": "3c367067",
   "metadata": {},
   "outputs": [],
   "source": [
    "norm_transform = transforms.Compose([\n",
    "    ConvertToRGB(),\n",
    "    transforms.Resize((224,224)),\n",
    "    transforms.ToTensor(),\n",
    "    transforms.Normalize(mean=mean, std=std)\n",
    "])\n",
    "\n",
    "norm_dataset = datasets.ImageFolder(root=root, transform=norm_transform)\n",
    "norm_loader = DataLoader(norm_dataset, batch_size=batch_size)"
   ]
  },
  {
   "cell_type": "code",
   "execution_count": 11,
   "id": "a9bcff80",
   "metadata": {},
   "outputs": [],
   "source": [
    "from torch.utils.data import random_split\n",
    "\n",
    "g = torch.Generator()\n",
    "g.manual_seed(42)\n",
    "\n",
    "train_dataset, val_dataset = random_split(norm_dataset, [0.8,0.2], generator=g)"
   ]
  },
  {
   "cell_type": "code",
   "execution_count": 12,
   "id": "8461d1e8",
   "metadata": {},
   "outputs": [
    {
     "name": "stdout",
     "output_type": "stream",
     "text": [
      "Shape of one batch: torch.Size([32, 3, 224, 224])\n"
     ]
    }
   ],
   "source": [
    "g = torch.Generator()\n",
    "g.manual_seed(42)\n",
    "\n",
    "\n",
    "batch_size = 32\n",
    "\n",
    "train_loader = DataLoader(train_dataset, batch_size=batch_size, shuffle=True)\n",
    "\n",
    "val_loader = DataLoader(val_dataset, batch_size=batch_size)\n",
    "\n",
    "single_batch = next(iter(train_loader))[0]\n",
    "print(f\"Shape of one batch: {single_batch.shape}\")"
   ]
  },
  {
   "cell_type": "code",
   "execution_count": 13,
   "id": "5d821bdc",
   "metadata": {},
   "outputs": [
    {
     "data": {
      "text/plain": [
       "Sequential(\n",
       "  (0): Conv2d(3, 16, kernel_size=(3, 3), stride=(1, 1), padding=(1, 1))\n",
       "  (1): ReLU()\n",
       "  (2): MaxPool2d(kernel_size=(2, 2), stride=2, padding=0, dilation=1, ceil_mode=False)\n",
       "  (3): Conv2d(16, 32, kernel_size=(3, 3), stride=(1, 1), padding=(1, 1))\n",
       "  (4): ReLU()\n",
       "  (5): MaxPool2d(kernel_size=(2, 2), stride=2, padding=0, dilation=1, ceil_mode=False)\n",
       "  (6): Conv2d(32, 64, kernel_size=(3, 3), stride=(1, 1), padding=(1, 1))\n",
       "  (7): ReLU()\n",
       "  (8): MaxPool2d(kernel_size=2, stride=2, padding=0, dilation=1, ceil_mode=False)\n",
       "  (9): Flatten(start_dim=1, end_dim=-1)\n",
       "  (10): Dropout(p=0.5, inplace=False)\n",
       "  (11): Linear(in_features=50176, out_features=500, bias=True)\n",
       "  (12): ReLU()\n",
       "  (13): Dropout(p=0.5, inplace=False)\n",
       "  (14): Linear(in_features=500, out_features=8, bias=True)\n",
       ")"
      ]
     },
     "execution_count": 13,
     "metadata": {},
     "output_type": "execute_result"
    }
   ],
   "source": [
    "torch.manual_seed(42)\n",
    "torch.cuda.manual_seed(42)\n",
    "\n",
    "model = torch.nn.Sequential()\n",
    "\n",
    "conv1 = torch.nn.Conv2d(in_channels=3, out_channels=16, kernel_size=(3, 3), padding=1)\n",
    "max_pool1 = torch.nn.MaxPool2d(kernel_size=(2, 2), stride=2)\n",
    "model.append(conv1)\n",
    "model.append(torch.nn.ReLU())\n",
    "model.append(max_pool1)\n",
    "\n",
    "conv2 = torch.nn.Conv2d(in_channels=16, out_channels=32, kernel_size=(3, 3), padding=1)\n",
    "max_pool2 = torch.nn.MaxPool2d(kernel_size=(2, 2), stride=2)\n",
    "model.append(conv2)\n",
    "model.append(torch.nn.ReLU())\n",
    "model.append(max_pool2)\n",
    "\n",
    "conv3 = torch.nn.Conv2d(32, 64, 3, padding=1)\n",
    "max_pool3 = torch.nn.MaxPool2d(2)\n",
    "model.append(conv3)\n",
    "model.append(torch.nn.ReLU())\n",
    "model.append(max_pool3)\n",
    "\n",
    "model.append(torch.nn.Flatten())\n",
    "model.append(torch.nn.Dropout())\n",
    "\n",
    "linear1 = torch.nn.Linear(in_features=50176, out_features=500)\n",
    "model.append(linear1)\n",
    "model.append(torch.nn.ReLU())\n",
    "model.append(torch.nn.Dropout())\n",
    "\n",
    "output_layer = torch.nn.Linear(500, 8)\n",
    "model.append(output_layer)"
   ]
  },
  {
   "cell_type": "code",
   "execution_count": 14,
   "id": "2c2ec6ac",
   "metadata": {},
   "outputs": [
    {
     "data": {
      "text/plain": [
       "Sequential(\n",
       "  (0): Conv2d(3, 16, kernel_size=(3, 3), stride=(1, 1), padding=(1, 1))\n",
       "  (1): ReLU()\n",
       "  (2): MaxPool2d(kernel_size=(2, 2), stride=2, padding=0, dilation=1, ceil_mode=False)\n",
       "  (3): Conv2d(16, 32, kernel_size=(3, 3), stride=(1, 1), padding=(1, 1))\n",
       "  (4): ReLU()\n",
       "  (5): MaxPool2d(kernel_size=(2, 2), stride=2, padding=0, dilation=1, ceil_mode=False)\n",
       "  (6): Conv2d(32, 64, kernel_size=(3, 3), stride=(1, 1), padding=(1, 1))\n",
       "  (7): ReLU()\n",
       "  (8): MaxPool2d(kernel_size=2, stride=2, padding=0, dilation=1, ceil_mode=False)\n",
       "  (9): Flatten(start_dim=1, end_dim=-1)\n",
       "  (10): Dropout(p=0.5, inplace=False)\n",
       "  (11): Linear(in_features=50176, out_features=500, bias=True)\n",
       "  (12): ReLU()\n",
       "  (13): Dropout(p=0.5, inplace=False)\n",
       "  (14): Linear(in_features=500, out_features=8, bias=True)\n",
       ")"
      ]
     },
     "execution_count": 14,
     "metadata": {},
     "output_type": "execute_result"
    }
   ],
   "source": [
    "import torch.nn as nn \n",
    "import torch.optim as optim \n",
    "from training import predict, train\n",
    "\n",
    "loss_fn = nn.CrossEntropyLoss()\n",
    "optimizer = optim.Adam(model.parameters(), lr=0.001)\n",
    "model.to(device)"
   ]
  },
  {
   "cell_type": "code",
   "execution_count": 15,
   "id": "10893825",
   "metadata": {},
   "outputs": [
    {
     "data": {
      "application/vnd.jupyter.widget-view+json": {
       "model_id": "a86e46cef41c4e6aa425c9940f9af7db",
       "version_major": 2,
       "version_minor": 0
      },
      "text/plain": [
       "Training:   0%|          | 0/413 [00:00<?, ?it/s]"
      ]
     },
     "metadata": {},
     "output_type": "display_data"
    },
    {
     "data": {
      "application/vnd.jupyter.widget-view+json": {
       "model_id": "6242b17043aa4cd4adfec65c8ae63db5",
       "version_major": 2,
       "version_minor": 0
      },
      "text/plain": [
       "Scoring:   0%|          | 0/104 [00:00<?, ?it/s]"
      ]
     },
     "metadata": {},
     "output_type": "display_data"
    },
    {
     "name": "stdout",
     "output_type": "stream",
     "text": [
      "Epoch: 1, Training Loss: 1.41, Validation Loss: 1.01, Validation accuracy = 0.64\n"
     ]
    },
    {
     "data": {
      "application/vnd.jupyter.widget-view+json": {
       "model_id": "be2f476485854e10ad4cd243dc6a377b",
       "version_major": 2,
       "version_minor": 0
      },
      "text/plain": [
       "Training:   0%|          | 0/413 [00:00<?, ?it/s]"
      ]
     },
     "metadata": {},
     "output_type": "display_data"
    },
    {
     "data": {
      "application/vnd.jupyter.widget-view+json": {
       "model_id": "cf8357a758cb40098bd655f69b3a9053",
       "version_major": 2,
       "version_minor": 0
      },
      "text/plain": [
       "Scoring:   0%|          | 0/104 [00:00<?, ?it/s]"
      ]
     },
     "metadata": {},
     "output_type": "display_data"
    },
    {
     "name": "stdout",
     "output_type": "stream",
     "text": [
      "Epoch: 2, Training Loss: 0.91, Validation Loss: 0.75, Validation accuracy = 0.74\n"
     ]
    },
    {
     "data": {
      "application/vnd.jupyter.widget-view+json": {
       "model_id": "b66da304a68440d3826e8cafce6bac87",
       "version_major": 2,
       "version_minor": 0
      },
      "text/plain": [
       "Training:   0%|          | 0/413 [00:00<?, ?it/s]"
      ]
     },
     "metadata": {},
     "output_type": "display_data"
    },
    {
     "data": {
      "application/vnd.jupyter.widget-view+json": {
       "model_id": "935b6fbb502643a39c1a0ebed94efa4f",
       "version_major": 2,
       "version_minor": 0
      },
      "text/plain": [
       "Scoring:   0%|          | 0/104 [00:00<?, ?it/s]"
      ]
     },
     "metadata": {},
     "output_type": "display_data"
    },
    {
     "name": "stdout",
     "output_type": "stream",
     "text": [
      "Epoch: 3, Training Loss: 0.69, Validation Loss: 0.63, Validation accuracy = 0.79\n"
     ]
    },
    {
     "data": {
      "application/vnd.jupyter.widget-view+json": {
       "model_id": "86f29230e3ab486188a8e81a107a576f",
       "version_major": 2,
       "version_minor": 0
      },
      "text/plain": [
       "Training:   0%|          | 0/413 [00:00<?, ?it/s]"
      ]
     },
     "metadata": {},
     "output_type": "display_data"
    },
    {
     "data": {
      "application/vnd.jupyter.widget-view+json": {
       "model_id": "015464ae42404a12aa6cdd01f3d4109d",
       "version_major": 2,
       "version_minor": 0
      },
      "text/plain": [
       "Scoring:   0%|          | 0/104 [00:00<?, ?it/s]"
      ]
     },
     "metadata": {},
     "output_type": "display_data"
    },
    {
     "name": "stdout",
     "output_type": "stream",
     "text": [
      "Epoch: 4, Training Loss: 0.56, Validation Loss: 0.56, Validation accuracy = 0.82\n"
     ]
    },
    {
     "data": {
      "application/vnd.jupyter.widget-view+json": {
       "model_id": "f0e242d910f74950b35e947c9dd9c011",
       "version_major": 2,
       "version_minor": 0
      },
      "text/plain": [
       "Training:   0%|          | 0/413 [00:00<?, ?it/s]"
      ]
     },
     "metadata": {},
     "output_type": "display_data"
    },
    {
     "data": {
      "application/vnd.jupyter.widget-view+json": {
       "model_id": "7e13cb23ad934c8d9e637ede9a10aaa4",
       "version_major": 2,
       "version_minor": 0
      },
      "text/plain": [
       "Scoring:   0%|          | 0/104 [00:00<?, ?it/s]"
      ]
     },
     "metadata": {},
     "output_type": "display_data"
    },
    {
     "name": "stdout",
     "output_type": "stream",
     "text": [
      "Epoch: 5, Training Loss: 0.46, Validation Loss: 0.53, Validation accuracy = 0.82\n"
     ]
    },
    {
     "data": {
      "application/vnd.jupyter.widget-view+json": {
       "model_id": "278962efba504e12a56caa8832a6e246",
       "version_major": 2,
       "version_minor": 0
      },
      "text/plain": [
       "Training:   0%|          | 0/413 [00:00<?, ?it/s]"
      ]
     },
     "metadata": {},
     "output_type": "display_data"
    },
    {
     "data": {
      "application/vnd.jupyter.widget-view+json": {
       "model_id": "345871d821934254aac78051275f0d72",
       "version_major": 2,
       "version_minor": 0
      },
      "text/plain": [
       "Scoring:   0%|          | 0/104 [00:00<?, ?it/s]"
      ]
     },
     "metadata": {},
     "output_type": "display_data"
    },
    {
     "name": "stdout",
     "output_type": "stream",
     "text": [
      "Epoch: 6, Training Loss: 0.39, Validation Loss: 0.55, Validation accuracy = 0.83\n"
     ]
    },
    {
     "data": {
      "application/vnd.jupyter.widget-view+json": {
       "model_id": "fca0450cf087423b9f20fe860bcd9202",
       "version_major": 2,
       "version_minor": 0
      },
      "text/plain": [
       "Training:   0%|          | 0/413 [00:00<?, ?it/s]"
      ]
     },
     "metadata": {},
     "output_type": "display_data"
    },
    {
     "data": {
      "application/vnd.jupyter.widget-view+json": {
       "model_id": "10cbb742edc84bc9b5879bd5d13711d5",
       "version_major": 2,
       "version_minor": 0
      },
      "text/plain": [
       "Scoring:   0%|          | 0/104 [00:00<?, ?it/s]"
      ]
     },
     "metadata": {},
     "output_type": "display_data"
    },
    {
     "name": "stdout",
     "output_type": "stream",
     "text": [
      "Epoch: 7, Training Loss: 0.35, Validation Loss: 0.54, Validation accuracy = 0.84\n"
     ]
    },
    {
     "data": {
      "application/vnd.jupyter.widget-view+json": {
       "model_id": "d85c6d55750f4694a76887d1e302a276",
       "version_major": 2,
       "version_minor": 0
      },
      "text/plain": [
       "Training:   0%|          | 0/413 [00:00<?, ?it/s]"
      ]
     },
     "metadata": {},
     "output_type": "display_data"
    },
    {
     "data": {
      "application/vnd.jupyter.widget-view+json": {
       "model_id": "1deab60180d04aa49ec51ec5a4fe8c7b",
       "version_major": 2,
       "version_minor": 0
      },
      "text/plain": [
       "Scoring:   0%|          | 0/104 [00:00<?, ?it/s]"
      ]
     },
     "metadata": {},
     "output_type": "display_data"
    },
    {
     "name": "stdout",
     "output_type": "stream",
     "text": [
      "Epoch: 8, Training Loss: 0.33, Validation Loss: 0.49, Validation accuracy = 0.85\n"
     ]
    },
    {
     "data": {
      "application/vnd.jupyter.widget-view+json": {
       "model_id": "84b95810ede8432d924c540fa14f7ac2",
       "version_major": 2,
       "version_minor": 0
      },
      "text/plain": [
       "Predicting:   0%|          | 0/104 [00:00<?, ?it/s]"
      ]
     },
     "metadata": {},
     "output_type": "display_data"
    },
    {
     "name": "stderr",
     "output_type": "stream",
     "text": [
      "100%|██████████| 104/104 [00:32<00:00,  3.24it/s]\n"
     ]
    },
    {
     "data": {
      "image/png": "[encoded data removed]",
      "text/plain": [
       "<Figure size 640x480 with 2 Axes>"
      ]
     },
     "metadata": {},
     "output_type": "display_data"
    }
   ],
   "source": [
    "import sklearn \n",
    "from sklearn.metrics import confusion_matrix, ConfusionMatrixDisplay\n",
    "import matplotlib.pyplot as plt \n",
    "\n",
    "train(model, optimizer, loss_fn, train_loader, val_loader, epochs=8, device=device)\n",
    "probabilities = predict(model, val_loader, device)\n",
    "predictions = torch.argmax(probabilities, dim=1)\n",
    "\n",
    "targets = []\n",
    "\n",
    "for _, labels in tqdm(val_loader):\n",
    "    targets.extend(labels.tolist())\n",
    "    \n",
    "cm = confusion_matrix(targets, predictions.cpu())\n",
    "\n",
    "disp = ConfusionMatrixDisplay(confusion_matrix=cm, display_labels=norm_dataset.classes)\n",
    "\n",
    "disp.plot(cmap=plt.cm.Blues, xticks_rotation=\"vertical\")\n",
    "plt.show()"
   ]
  },
  {
   "cell_type": "code",
   "execution_count": null,
   "id": "a8ab6868",
   "metadata": {},
   "outputs": [
    {
     "data": {
      "text/html": [
       "<div>\n",
       "<style scoped>\n",
       "    .dataframe tbody tr th:only-of-type {\n",
       "        vertical-align: middle;\n",
       "    }\n",
       "\n",
       "    .dataframe tbody tr th {\n",
       "        vertical-align: top;\n",
       "    }\n",
       "\n",
       "    .dataframe thead th {\n",
       "        text-align: right;\n",
       "    }\n",
       "</style>\n",
       "<table border=\"1\" class=\"dataframe\">\n",
       "  <thead>\n",
       "    <tr style=\"text-align: right;\">\n",
       "      <th></th>\n",
       "      <th>id</th>\n",
       "      <th>filepath</th>\n",
       "      <th>site</th>\n",
       "    </tr>\n",
       "  </thead>\n",
       "  <tbody>\n",
       "    <tr>\n",
       "      <th>0</th>\n",
       "      <td>ZJ016488</td>\n",
       "      <td>test_features/ZJ016488.jpg</td>\n",
       "      <td>S0082</td>\n",
       "    </tr>\n",
       "    <tr>\n",
       "      <th>1</th>\n",
       "      <td>ZJ016489</td>\n",
       "      <td>test_features/ZJ016489.jpg</td>\n",
       "      <td>S0040</td>\n",
       "    </tr>\n",
       "    <tr>\n",
       "      <th>2</th>\n",
       "      <td>ZJ016490</td>\n",
       "      <td>test_features/ZJ016490.jpg</td>\n",
       "      <td>S0040</td>\n",
       "    </tr>\n",
       "    <tr>\n",
       "      <th>3</th>\n",
       "      <td>ZJ016491</td>\n",
       "      <td>test_features/ZJ016491.jpg</td>\n",
       "      <td>S0041</td>\n",
       "    </tr>\n",
       "    <tr>\n",
       "      <th>4</th>\n",
       "      <td>ZJ016492</td>\n",
       "      <td>test_features/ZJ016492.jpg</td>\n",
       "      <td>S0040</td>\n",
       "    </tr>\n",
       "    <tr>\n",
       "      <th>...</th>\n",
       "      <td>...</td>\n",
       "      <td>...</td>\n",
       "      <td>...</td>\n",
       "    </tr>\n",
       "    <tr>\n",
       "      <th>4459</th>\n",
       "      <td>ZJ020947</td>\n",
       "      <td>test_features/ZJ020947.jpg</td>\n",
       "      <td>S0086</td>\n",
       "    </tr>\n",
       "    <tr>\n",
       "      <th>4460</th>\n",
       "      <td>ZJ020948</td>\n",
       "      <td>test_features/ZJ020948.jpg</td>\n",
       "      <td>S0152</td>\n",
       "    </tr>\n",
       "    <tr>\n",
       "      <th>4461</th>\n",
       "      <td>ZJ020949</td>\n",
       "      <td>test_features/ZJ020949.jpg</td>\n",
       "      <td>S0162</td>\n",
       "    </tr>\n",
       "    <tr>\n",
       "      <th>4462</th>\n",
       "      <td>ZJ020950</td>\n",
       "      <td>test_features/ZJ020950.jpg</td>\n",
       "      <td>S0055</td>\n",
       "    </tr>\n",
       "    <tr>\n",
       "      <th>4463</th>\n",
       "      <td>ZJ020951</td>\n",
       "      <td>test_features/ZJ020951.jpg</td>\n",
       "      <td>S0114</td>\n",
       "    </tr>\n",
       "  </tbody>\n",
       "</table>\n",
       "<p>4464 rows × 3 columns</p>\n",
       "</div>"
      ],
      "text/plain": [
       "            id                    filepath   site\n",
       "0     ZJ016488  test_features/ZJ016488.jpg  S0082\n",
       "1     ZJ016489  test_features/ZJ016489.jpg  S0040\n",
       "2     ZJ016490  test_features/ZJ016490.jpg  S0040\n",
       "3     ZJ016491  test_features/ZJ016491.jpg  S0041\n",
       "4     ZJ016492  test_features/ZJ016492.jpg  S0040\n",
       "...        ...                         ...    ...\n",
       "4459  ZJ020947  test_features/ZJ020947.jpg  S0086\n",
       "4460  ZJ020948  test_features/ZJ020948.jpg  S0152\n",
       "4461  ZJ020949  test_features/ZJ020949.jpg  S0162\n",
       "4462  ZJ020950  test_features/ZJ020950.jpg  S0055\n",
       "4463  ZJ020951  test_features/ZJ020951.jpg  S0114\n",
       "\n",
       "[4464 rows x 3 columns]"
      ]
     },
     "execution_count": 16,
     "metadata": {},
     "output_type": "execute_result"
    }
   ],
   "source": [
    "import PIL \n",
    "from PIL import Image\n",
    "\n",
    "id_file_location = os.path.join(extract_file, 'test_features.csv')\n",
    "df_ids = pd.read_csv(id_file_location)\n",
    "\n",
    "model.to(device)\n",
    "\n",
    "\n",
    "def file_to_confidence(file_path, image_id):\n",
    "    image = PIL.Image.open(file_path)\n",
    "    transformed = norm_transform(image)\n",
    "    unsqueezed = transformed.unsqueeze(0)\n",
    "    image_cuda = unsqueezed.to(device)\n",
    "\n",
    "    model.eval()\n",
    "    with torch.no_grad():\n",
    "        model_raw = model(image_cuda)\n",
    "        confidence = torch.nn.functional.softmax(model_raw, dim=1)\n",
    "\n",
    "    conf_df = pd.DataFrame(confidence.tolist())\n",
    "    conf_df.columns = dataset.classes\n",
    "    conf_df.index = [image_id]\n",
    "\n",
    "    return conf_df"
   ]
  },
  {
   "cell_type": "code",
   "execution_count": 19,
   "id": "82b06cb9",
   "metadata": {},
   "outputs": [
    {
     "data": {
      "text/html": [
       "<div>\n",
       "<style scoped>\n",
       "    .dataframe tbody tr th:only-of-type {\n",
       "        vertical-align: middle;\n",
       "    }\n",
       "\n",
       "    .dataframe tbody tr th {\n",
       "        vertical-align: top;\n",
       "    }\n",
       "\n",
       "    .dataframe thead th {\n",
       "        text-align: right;\n",
       "    }\n",
       "</style>\n",
       "<table border=\"1\" class=\"dataframe\">\n",
       "  <thead>\n",
       "    <tr style=\"text-align: right;\">\n",
       "      <th></th>\n",
       "      <th>antelope_duiker</th>\n",
       "      <th>bird</th>\n",
       "      <th>blank</th>\n",
       "      <th>civet_genet</th>\n",
       "      <th>hog</th>\n",
       "      <th>leopard</th>\n",
       "      <th>monkey_prosimian</th>\n",
       "      <th>rodent</th>\n",
       "    </tr>\n",
       "  </thead>\n",
       "  <tbody>\n",
       "    <tr>\n",
       "      <th>ZJ016488</th>\n",
       "      <td>0.370221</td>\n",
       "      <td>0.000007</td>\n",
       "      <td>0.330191</td>\n",
       "      <td>0.235543</td>\n",
       "      <td>2.318215e-07</td>\n",
       "      <td>0.000369</td>\n",
       "      <td>0.010419</td>\n",
       "      <td>0.053249</td>\n",
       "    </tr>\n",
       "    <tr>\n",
       "      <th>ZJ016489</th>\n",
       "      <td>0.484243</td>\n",
       "      <td>0.341523</td>\n",
       "      <td>0.088604</td>\n",
       "      <td>0.004664</td>\n",
       "      <td>1.272405e-03</td>\n",
       "      <td>0.003405</td>\n",
       "      <td>0.061597</td>\n",
       "      <td>0.014692</td>\n",
       "    </tr>\n",
       "    <tr>\n",
       "      <th>ZJ016490</th>\n",
       "      <td>0.851562</td>\n",
       "      <td>0.015009</td>\n",
       "      <td>0.092142</td>\n",
       "      <td>0.024413</td>\n",
       "      <td>2.191689e-03</td>\n",
       "      <td>0.000244</td>\n",
       "      <td>0.005673</td>\n",
       "      <td>0.008765</td>\n",
       "    </tr>\n",
       "    <tr>\n",
       "      <th>ZJ016491</th>\n",
       "      <td>0.274367</td>\n",
       "      <td>0.000563</td>\n",
       "      <td>0.692950</td>\n",
       "      <td>0.000465</td>\n",
       "      <td>9.852498e-04</td>\n",
       "      <td>0.025023</td>\n",
       "      <td>0.004777</td>\n",
       "      <td>0.000869</td>\n",
       "    </tr>\n",
       "    <tr>\n",
       "      <th>ZJ016492</th>\n",
       "      <td>0.110786</td>\n",
       "      <td>0.029243</td>\n",
       "      <td>0.770819</td>\n",
       "      <td>0.004824</td>\n",
       "      <td>4.490979e-03</td>\n",
       "      <td>0.005786</td>\n",
       "      <td>0.035300</td>\n",
       "      <td>0.038751</td>\n",
       "    </tr>\n",
       "    <tr>\n",
       "      <th>ZJ016493</th>\n",
       "      <td>0.647284</td>\n",
       "      <td>0.033046</td>\n",
       "      <td>0.172169</td>\n",
       "      <td>0.000812</td>\n",
       "      <td>2.020900e-04</td>\n",
       "      <td>0.001209</td>\n",
       "      <td>0.118475</td>\n",
       "      <td>0.026803</td>\n",
       "    </tr>\n",
       "    <tr>\n",
       "      <th>ZJ016494</th>\n",
       "      <td>0.670752</td>\n",
       "      <td>0.000032</td>\n",
       "      <td>0.317017</td>\n",
       "      <td>0.000011</td>\n",
       "      <td>1.588988e-04</td>\n",
       "      <td>0.006089</td>\n",
       "      <td>0.004686</td>\n",
       "      <td>0.001254</td>\n",
       "    </tr>\n",
       "    <tr>\n",
       "      <th>ZJ016495</th>\n",
       "      <td>0.142929</td>\n",
       "      <td>0.015011</td>\n",
       "      <td>0.722394</td>\n",
       "      <td>0.000611</td>\n",
       "      <td>2.546306e-03</td>\n",
       "      <td>0.022933</td>\n",
       "      <td>0.088011</td>\n",
       "      <td>0.005566</td>\n",
       "    </tr>\n",
       "    <tr>\n",
       "      <th>ZJ016496</th>\n",
       "      <td>0.520337</td>\n",
       "      <td>0.007327</td>\n",
       "      <td>0.283779</td>\n",
       "      <td>0.003806</td>\n",
       "      <td>7.825563e-04</td>\n",
       "      <td>0.000617</td>\n",
       "      <td>0.144523</td>\n",
       "      <td>0.038827</td>\n",
       "    </tr>\n",
       "    <tr>\n",
       "      <th>ZJ016497</th>\n",
       "      <td>0.133260</td>\n",
       "      <td>0.007515</td>\n",
       "      <td>0.754026</td>\n",
       "      <td>0.000420</td>\n",
       "      <td>1.085176e-02</td>\n",
       "      <td>0.026760</td>\n",
       "      <td>0.062091</td>\n",
       "      <td>0.005074</td>\n",
       "    </tr>\n",
       "  </tbody>\n",
       "</table>\n",
       "</div>"
      ],
      "text/plain": [
       "          antelope_duiker      bird     blank  civet_genet           hog  \\\n",
       "ZJ016488         0.370221  0.000007  0.330191     0.235543  2.318215e-07   \n",
       "ZJ016489         0.484243  0.341523  0.088604     0.004664  1.272405e-03   \n",
       "ZJ016490         0.851562  0.015009  0.092142     0.024413  2.191689e-03   \n",
       "ZJ016491         0.274367  0.000563  0.692950     0.000465  9.852498e-04   \n",
       "ZJ016492         0.110786  0.029243  0.770819     0.004824  4.490979e-03   \n",
       "ZJ016493         0.647284  0.033046  0.172169     0.000812  2.020900e-04   \n",
       "ZJ016494         0.670752  0.000032  0.317017     0.000011  1.588988e-04   \n",
       "ZJ016495         0.142929  0.015011  0.722394     0.000611  2.546306e-03   \n",
       "ZJ016496         0.520337  0.007327  0.283779     0.003806  7.825563e-04   \n",
       "ZJ016497         0.133260  0.007515  0.754026     0.000420  1.085176e-02   \n",
       "\n",
       "           leopard  monkey_prosimian    rodent  \n",
       "ZJ016488  0.000369          0.010419  0.053249  \n",
       "ZJ016489  0.003405          0.061597  0.014692  \n",
       "ZJ016490  0.000244          0.005673  0.008765  \n",
       "ZJ016491  0.025023          0.004777  0.000869  \n",
       "ZJ016492  0.005786          0.035300  0.038751  \n",
       "ZJ016493  0.001209          0.118475  0.026803  \n",
       "ZJ016494  0.006089          0.004686  0.001254  \n",
       "ZJ016495  0.022933          0.088011  0.005566  \n",
       "ZJ016496  0.000617          0.144523  0.038827  \n",
       "ZJ016497  0.026760          0.062091  0.005074  "
      ]
     },
     "execution_count": 19,
     "metadata": {},
     "output_type": "execute_result"
    }
   ],
   "source": [
    "confidence_df = pd.concat([file_to_confidence(os.path.join(extract_file,df_ids.iloc[i,1]), df_ids.iloc[i,0]) for i in range(len(df_ids.index))], axis=0)\n",
    "\n",
    "confidence_df.head(10)"
   ]
  },
  {
   "cell_type": "code",
   "execution_count": null,
   "id": "49fc3788",
   "metadata": {},
   "outputs": [],
   "source": []
  }
 ],
 "metadata": {
  "kernelspec": {
   "display_name": "Python 3",
   "language": "python",
   "name": "python3"
  },
  "language_info": {
   "codemirror_mode": {
    "name": "ipython",
    "version": 3
   },
   "file_extension": ".py",
   "mimetype": "text/x-python",
   "name": "python",
   "nbconvert_exporter": "python",
   "pygments_lexer": "ipython3",
   "version": "3.12.1"
  }
 },
 "nbformat": 4,
 "nbformat_minor": 5
}
